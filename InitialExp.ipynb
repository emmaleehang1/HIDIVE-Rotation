{
 "cells": [
  {
   "cell_type": "code",
   "execution_count": 1,
   "id": "7a20ec97-3d8e-4b53-a438-4e8db115ae2d",
   "metadata": {},
   "outputs": [
    {
     "name": "stdout",
     "output_type": "stream",
     "text": [
      "Note: you may need to restart the kernel to use updated packages.\n",
      "Note: you may need to restart the kernel to use updated packages.\n"
     ]
    }
   ],
   "source": [
    "%pip install chromospyce -q\n",
    "%pip install pyBigWig -q\n",
    "import pyBigWig\n",
    "import chromospyce\n",
    "import pandas as pd\n",
    "import numpy as np\n",
    "import matplotlib.pyplot as plt"
   ]
  },
  {
   "cell_type": "code",
   "execution_count": 22,
   "id": "fb9a0299-eb50-410b-9cda-a1f7d9f73aff",
   "metadata": {
    "scrolled": true
   },
   "outputs": [
    {
     "data": {
      "application/vnd.jupyter.widget-view+json": {
       "model_id": "6570c17d85c74438bd61400bd4b1a0b5",
       "version_major": 2,
       "version_minor": 1
      },
      "text/plain": [
       "Widget(structure=b'\\xff\\xff\\xff\\xff\\x80\\x03\\x00\\x00\\x10\\x00\\x00\\x00\\x00\\x00\\n\\x00\\x0e\\x00\\x06\\x00\\x05\\x00\\x08\\…"
      ]
     },
     "execution_count": 22,
     "metadata": {},
     "output_type": "execute_result"
    }
   ],
   "source": [
    "# Initial experiment: color scale of maternal and paternal chromatin\n",
    "\n",
    "# Read in data from Tan et al. \n",
    "data = pd.read_parquet('Tan3D.parquet', engine='pyarrow')\n",
    "\n",
    "# Concatenate to only x, y, z coordinates + to numpy table\n",
    "\n",
    "full_coords = data[[\"x\",\"y\",\"z\"]]\n",
    "\n",
    "full_coords = full_coords.to_numpy()\n",
    "\n",
    "# Set up color scale\n",
    "def get_mat_pat(chrom_str):\n",
    "    if 'mat' in chrom_str:\n",
    "        return 0.5\n",
    "    return 1\n",
    "\n",
    "# maternal is yellow, paternal chromatin is purple\n",
    "\n",
    "color_values = [get_mat_pat(chrom_str) for chrom_str in data['chr']]\n",
    "\n",
    "\n",
    "vc = {\n",
    "    \"color\": {\n",
    "        \"values\": color_values,\n",
    "        \"min\": 0,\n",
    "        \"max\": 1,\n",
    "        \"colorScale\": \"spectral\"\n",
    "    },\n",
    "    \"scale\": 0.002,\n",
    "    \"links\": True,\n",
    "    \"mark\": \"sphere\"\n",
    "}\n",
    "\n",
    "chromospyce.Widget(full_coords, vc)"
   ]
  },
  {
   "cell_type": "code",
   "execution_count": 21,
   "id": "aafb8f94-2ed1-4e85-9812-d9aeaadd8f83",
   "metadata": {},
   "outputs": [
    {
     "data": {
      "application/vnd.jupyter.widget-view+json": {
       "model_id": "1d991579ed7e4787acf603ff4fed0423",
       "version_major": 2,
       "version_minor": 1
      },
      "text/plain": [
       "Widget(structure=b'\\xff\\xff\\xff\\xff\\x80\\x03\\x00\\x00\\x10\\x00\\x00\\x00\\x00\\x00\\n\\x00\\x0e\\x00\\x06\\x00\\x05\\x00\\x08\\…"
      ]
     },
     "execution_count": 21,
     "metadata": {},
     "output_type": "execute_result"
    }
   ],
   "source": [
    "# Experiment #2: color scale by chromosome numbers \n",
    "# My goal for this one was to be able to see the locations of the paternal and maternal chromatin of the same chromosome\n",
    "# However, there are not enough colors for this to be easy to look at\n",
    "\n",
    "\n",
    "def get_chromosome_number(chrom_str):\n",
    "    # For 'X' and 'Y' chromosomes\n",
    "    if 'X' in chrom_str:\n",
    "        return 23\n",
    "    return int(chrom_str.split('(')[0])\n",
    "\n",
    "# Create a list of color values based on chromosome number\n",
    "color_values = [get_chromosome_number(chrom_str) for chrom_str in data['chr']]\n",
    "\n",
    "vc = {\n",
    "    \"color\": {\n",
    "        \"values\": color_values,\n",
    "        \"min\": 1,\n",
    "        \"max\": 23,\n",
    "        \"colorScale\": \"Spectral\"\n",
    "    },\n",
    "    \"scale\": 0.002,\n",
    "    \"links\": True,\n",
    "    \"mark\": \"sphere\"\n",
    "}\n",
    "\n",
    "chromospyce.Widget(full_coords, vc)"
   ]
  },
  {
   "cell_type": "code",
   "execution_count": 20,
   "id": "5d8e0187-474c-4b68-9132-2608541ec159",
   "metadata": {},
   "outputs": [
    {
     "data": {
      "application/vnd.jupyter.widget-view+json": {
       "model_id": "23668af997ff410582f468bc47a2e19b",
       "version_major": 2,
       "version_minor": 1
      },
      "text/plain": [
       "Widget(structure=b'\\xff\\xff\\xff\\xffx\\x03\\x00\\x00\\x10\\x00\\x00\\x00\\x00\\x00\\n\\x00\\x0e\\x00\\x06\\x00\\x05\\x00\\x08\\x00…"
      ]
     },
     "execution_count": 20,
     "metadata": {},
     "output_type": "execute_result"
    }
   ],
   "source": [
    "# Experiment 3: I wanted to pull out one chromosome\n",
    "# I chose Chromosome 15 for arbitrary reasons\n",
    "chrom15_pat = data[data['chr'] == '15(pat)']\n",
    "\n",
    "chrom15_pat_coords = chrom15_pat[[\"x\",\"y\",\"z\"]]\n",
    "\n",
    "chrom15_pat_coords = chrom15_pat_coords.to_numpy()\n",
    "\n",
    "\n",
    "numbers_chrom15 = list(range(0, len(chrom15_pat_coords)+1))\n",
    "\n",
    "vc = {\n",
    "    \"color\": {\n",
    "        \"values\": numbers_chrom15,\n",
    "        \"min\": 0,\n",
    "        \"max\": len(chrom15_pat_coords)+1,\n",
    "        \"colorScale\": \"Spectral\"\n",
    "    },\n",
    "    \"scale\": 0.01,\n",
    "    \"links\": False,\n",
    "    \"mark\": \"sphere\"\n",
    "}\n",
    "\n",
    "chromospyce.Widget(chrom15_pat_coords, vc)\n"
   ]
  },
  {
   "cell_type": "code",
   "execution_count": 19,
   "id": "7a7dbc3c-cb6d-4b48-8ceb-cdf3500c5ec0",
   "metadata": {},
   "outputs": [
    {
     "name": "stdout",
     "output_type": "stream",
     "text": [
      "[38600000]\n",
      "387\n"
     ]
    },
    {
     "data": {
      "application/vnd.jupyter.widget-view+json": {
       "model_id": "89311944ba2a4dd0b389bd697afc742f",
       "version_major": 2,
       "version_minor": 1
      },
      "text/plain": [
       "Widget(structure=b'\\xff\\xff\\xff\\xffx\\x03\\x00\\x00\\x10\\x00\\x00\\x00\\x00\\x00\\n\\x00\\x0e\\x00\\x06\\x00\\x05\\x00\\x08\\x00…"
      ]
     },
     "execution_count": 19,
     "metadata": {},
     "output_type": "execute_result"
    }
   ],
   "source": [
    "# Experiment 4: pulling out the maternal and paternal chromatin of one chromosome\n",
    "# used chromsome 21\n",
    "chrom21_full = data[(data['chr'] == '21(mat)') | (data['chr'] == '21(pat)')]\n",
    "\n",
    "chrom21_full_coords = chrom21_full[[\"x\", \"y\", \"z\"]].to_numpy()\n",
    "\n",
    "chrom21_mat = data[(data['chr']== '21(mat)')]\n",
    "chrom21_mat_coords = chrom21_mat[[\"x\", \"y\", \"z\"]].to_numpy()\n",
    "chrom21_mat_coords = chrom21_mat[[\"coord\"]].to_numpy()\n",
    "\n",
    "print(max(chrom21_mat_coords) - min(chrom21_mat_coords))\n",
    "print(len(chrom21_mat_coords))\n",
    "\n",
    "\n",
    "# Reset index and store the result in a variable\n",
    "highlight_indices_21 = chrom21_mat.reset_index(drop=True)\n",
    "\n",
    "highlight_color = 0\n",
    "default_color = 1\n",
    "\n",
    "# Create the color_values with the correct range\n",
    "color_values = [highlight_color if i in highlight_indices_21.index else default_color for i in range(len(chrom21_full_coords))]\n",
    "\n",
    "vc = {\n",
    "    \"color\": {\n",
    "        \"values\": color_values,\n",
    "        \"min\": 0,\n",
    "        \"max\": 1,\n",
    "        \"colorScale\": \"Spectral\"  # Consider if another scale is more appropriate\n",
    "    },\n",
    "    \"scale\": 0.01,\n",
    "    \"links\": False,\n",
    "    \"mark\": \"sphere\"\n",
    "}\n",
    "\n",
    "chromospyce.Widget(chrom21_full_coords, vc)\n"
   ]
  }
 ],
 "metadata": {
  "kernelspec": {
   "display_name": "Python 3 (ipykernel)",
   "language": "python",
   "name": "python3"
  },
  "language_info": {
   "codemirror_mode": {
    "name": "ipython",
    "version": 3
   },
   "file_extension": ".py",
   "mimetype": "text/x-python",
   "name": "python",
   "nbconvert_exporter": "python",
   "pygments_lexer": "ipython3",
   "version": "3.10.12"
  }
 },
 "nbformat": 4,
 "nbformat_minor": 5
}
